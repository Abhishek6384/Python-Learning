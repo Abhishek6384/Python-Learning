{
 "cells": [
  {
   "cell_type": "code",
   "execution_count": 1,
   "id": "448239f1",
   "metadata": {
    "scrolled": true
   },
   "outputs": [
    {
     "name": "stdout",
     "output_type": "stream",
     "text": [
      "T\n"
     ]
    }
   ],
   "source": [
    "name=\"Test\"\n",
    "print(name[0])"
   ]
  },
  {
   "cell_type": "code",
   "execution_count": 2,
   "id": "d86a777f",
   "metadata": {
    "scrolled": true
   },
   "outputs": [
    {
     "name": "stdout",
     "output_type": "stream",
     "text": [
      "12334.56\n"
     ]
    }
   ],
   "source": [
    "num=123_34.56\n",
    "print(num)"
   ]
  },
  {
   "cell_type": "markdown",
   "id": "6f554f1e",
   "metadata": {},
   "source": [
    "## Type casting\n"
   ]
  },
  {
   "cell_type": "code",
   "execution_count": 4,
   "id": "e3dc19cc",
   "metadata": {
    "scrolled": true
   },
   "outputs": [
    {
     "name": "stdout",
     "output_type": "stream",
     "text": [
      "Enter your name\n",
      "abhsihek\n",
      "your name has 8 characters\n"
     ]
    }
   ],
   "source": [
    "name=str(len(input(\"Enter your name\\n\")))\n",
    "print(\"your name has \"+name+\" characters\")"
   ]
  },
  {
   "cell_type": "code",
   "execution_count": 7,
   "id": "0959bb58",
   "metadata": {},
   "outputs": [
    {
     "name": "stdout",
     "output_type": "stream",
     "text": [
      "Enter the total people, tip (10,12,15 %), and total no of people 124 12 7\n",
      "17.72904761904762\n"
     ]
    }
   ],
   "source": [
    "# split bill generator\n",
    "total,tip,people=map(int,input(\"Enter the total people, tip (10,12,15 %), and total no of people \").split())\n",
    "total_bill=total+((total/tip)/100)\n",
    "split=total_bill/people\n",
    "print(split)"
   ]
  },
  {
   "cell_type": "code",
   "execution_count": null,
   "id": "66ac9883",
   "metadata": {},
   "outputs": [],
   "source": []
  },
  {
   "cell_type": "code",
   "execution_count": null,
   "id": "bd1b1d16",
   "metadata": {},
   "outputs": [],
   "source": []
  },
  {
   "cell_type": "code",
   "execution_count": null,
   "id": "72a38cc4",
   "metadata": {},
   "outputs": [],
   "source": []
  }
 ],
 "metadata": {
  "kernelspec": {
   "display_name": "Python 3 (ipykernel)",
   "language": "python",
   "name": "python3"
  },
  "language_info": {
   "codemirror_mode": {
    "name": "ipython",
    "version": 3
   },
   "file_extension": ".py",
   "mimetype": "text/x-python",
   "name": "python",
   "nbconvert_exporter": "python",
   "pygments_lexer": "ipython3",
   "version": "3.9.12"
  }
 },
 "nbformat": 4,
 "nbformat_minor": 5
}
