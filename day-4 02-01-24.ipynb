{
 "cells": [
  {
   "cell_type": "code",
   "execution_count": 56,
   "id": "06fb7519",
   "metadata": {},
   "outputs": [],
   "source": [
    "import random"
   ]
  },
  {
   "cell_type": "code",
   "execution_count": 10,
   "id": "b87edcae",
   "metadata": {},
   "outputs": [
    {
     "name": "stdout",
     "output_type": "stream",
     "text": [
      "2\n"
     ]
    }
   ],
   "source": [
    "l1=[1,4,2,4,5]\n",
    "print(random.choice(l1))"
   ]
  },
  {
   "cell_type": "code",
   "execution_count": 22,
   "id": "99d3d987",
   "metadata": {},
   "outputs": [
    {
     "name": "stdout",
     "output_type": "stream",
     "text": [
      "0.6229016948897019\n",
      "0.7417869892607294\n"
     ]
    }
   ],
   "source": [
    "\n",
    "# Random numbers depend on the seeding value. For example, \n",
    "# if the seeding value is 5 then the output of the below program will always be the same. \n",
    "# Therefore, it must not be used for encryption.\n",
    "random.seed(5)\n",
    "print(random.random())\n",
    "print(random.random())\n"
   ]
  },
  {
   "cell_type": "code",
   "execution_count": 68,
   "id": "440cdfb6",
   "metadata": {},
   "outputs": [
    {
     "data": {
      "text/plain": [
       "6"
      ]
     },
     "execution_count": 68,
     "metadata": {},
     "output_type": "execute_result"
    }
   ],
   "source": [
    "# randint()\n",
    "random.randint(5,10)\n"
   ]
  },
  {
   "cell_type": "code",
   "execution_count": 53,
   "id": "bd318973",
   "metadata": {},
   "outputs": [
    {
     "name": "stdout",
     "output_type": "stream",
     "text": [
      "0.9723372896865363\n"
     ]
    }
   ],
   "source": [
    "from random import random\n",
    "# random always generate floating point number between 0 and 1\n",
    "print(random())"
   ]
  },
  {
   "cell_type": "code",
   "execution_count": 70,
   "id": "3e255000",
   "metadata": {},
   "outputs": [
    {
     "data": {
      "text/plain": [
       "['B2']"
      ]
     },
     "execution_count": 70,
     "metadata": {},
     "output_type": "execute_result"
    }
   ],
   "source": [
    "text=\"B2\"\n",
    "text.split()"
   ]
  },
  {
   "cell_type": "code",
   "execution_count": 77,
   "id": "1652c600",
   "metadata": {},
   "outputs": [],
   "source": [
    "rock = '''\n",
    "    _______\n",
    "---'   ____)\n",
    "      (_____)\n",
    "      (_____)\n",
    "      (____)\n",
    "---.__(___)\n",
    "'''\n",
    "paper = '''\n",
    "    _______\n",
    "---'   ____)____\n",
    "          ______)\n",
    "          _______)\n",
    "         _______)\n",
    "---.__________)\n",
    "'''\n",
    "scissors = '''\n",
    "    _______\n",
    "---'   ____)____\n",
    "          ______)\n",
    "       __________)\n",
    "      (____)\n",
    "---.__(___)\n",
    "'''"
   ]
  },
  {
   "cell_type": "code",
   "execution_count": 80,
   "id": "9a649ed6",
   "metadata": {},
   "outputs": [
    {
     "name": "stdout",
     "output_type": "stream",
     "text": [
      "What would you like to choose=> 0 for rock, 1 for paper and 2 for scissors1\n",
      "\n",
      "    _______\n",
      "---'   ____)\n",
      "      (_____)\n",
      "      (_____)\n",
      "      (____)\n",
      "---.__(___)\n",
      "\n",
      "win\n"
     ]
    }
   ],
   "source": [
    "choice=int(input(\"What would you like to choose=> 0 for rock, 1 for paper and 2 for scissors\"))\n",
    "computer=random.randint(0,2)\n",
    "if computer==0:\n",
    "    print(rock)\n",
    "elif computer==1:\n",
    "    print(paper)\n",
    "elif computer==2:\n",
    "    print(scissors)\n",
    "if computer==choice:\n",
    "    print('its a clash')\n",
    "elif computer==0 and choice==1:\n",
    "    print(\"win\")\n",
    "elif computer==0 and choice==2:\n",
    "    print('loss')\n",
    "elif computer==1 and choice==0:\n",
    "    print(\"loss\")\n",
    "elif computer==1 and choice==2:\n",
    "    print(\"win\")\n",
    "elif computer==2 and choice==0:\n",
    "    print(\"win\")\n",
    "elif computer==2 and choice==1:\n",
    "    print(\"loss\")\n"
   ]
  },
  {
   "cell_type": "code",
   "execution_count": null,
   "id": "4622cd6d",
   "metadata": {},
   "outputs": [],
   "source": []
  },
  {
   "cell_type": "code",
   "execution_count": null,
   "id": "f459ad7a",
   "metadata": {},
   "outputs": [],
   "source": []
  },
  {
   "cell_type": "code",
   "execution_count": null,
   "id": "7a0dd039",
   "metadata": {},
   "outputs": [],
   "source": []
  },
  {
   "cell_type": "code",
   "execution_count": null,
   "id": "0ed49fb2",
   "metadata": {},
   "outputs": [],
   "source": []
  },
  {
   "cell_type": "code",
   "execution_count": null,
   "id": "7e29bb3b",
   "metadata": {},
   "outputs": [],
   "source": []
  },
  {
   "cell_type": "code",
   "execution_count": null,
   "id": "651b8114",
   "metadata": {},
   "outputs": [],
   "source": []
  }
 ],
 "metadata": {
  "kernelspec": {
   "display_name": "Python 3 (ipykernel)",
   "language": "python",
   "name": "python3"
  },
  "language_info": {
   "codemirror_mode": {
    "name": "ipython",
    "version": 3
   },
   "file_extension": ".py",
   "mimetype": "text/x-python",
   "name": "python",
   "nbconvert_exporter": "python",
   "pygments_lexer": "ipython3",
   "version": "3.9.12"
  }
 },
 "nbformat": 4,
 "nbformat_minor": 5
}
