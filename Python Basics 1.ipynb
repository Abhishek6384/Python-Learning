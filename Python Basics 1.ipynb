{
 "cells": [
  {
   "cell_type": "markdown",
   "id": "c1577c15",
   "metadata": {},
   "source": [
    "# list comprehension\n"
   ]
  },
  {
   "cell_type": "code",
   "execution_count": 13,
   "id": "5d9d7f11",
   "metadata": {},
   "outputs": [
    {
     "name": "stdout",
     "output_type": "stream",
     "text": [
      "[2, 4, 6]\n"
     ]
    }
   ],
   "source": [
    "l1=[1,2,3,4,5,6]\n",
    "l2=[i for i in l1 if i%2==0]\n",
    "print(l2)"
   ]
  },
  {
   "cell_type": "code",
   "execution_count": 14,
   "id": "9701d5c5",
   "metadata": {},
   "outputs": [
    {
     "name": "stdout",
     "output_type": "stream",
     "text": [
      "[1, 4, 9, 16, 25, 36]\n"
     ]
    }
   ],
   "source": [
    "square=[i*i for i in l1]\n",
    "print(square)"
   ]
  },
  {
   "cell_type": "markdown",
   "id": "e8c8da57",
   "metadata": {},
   "source": [
    "# set comprehesion"
   ]
  },
  {
   "cell_type": "code",
   "execution_count": 15,
   "id": "8bd908bb",
   "metadata": {},
   "outputs": [
    {
     "name": "stdout",
     "output_type": "stream",
     "text": [
      "{1, 2, 3, 4, 5, 6}\n",
      "<class 'set'>\n"
     ]
    }
   ],
   "source": [
    "s1= set(l1)\n",
    "print(s1)\n",
    "print(type(s1))"
   ]
  },
  {
   "cell_type": "code",
   "execution_count": 16,
   "id": "019b1c6a",
   "metadata": {},
   "outputs": [
    {
     "name": "stdout",
     "output_type": "stream",
     "text": [
      "{2, 4, 6}\n"
     ]
    }
   ],
   "source": [
    "even_set={i for i in s1 if i%2==0}\n",
    "print(even_set)"
   ]
  },
  {
   "cell_type": "markdown",
   "id": "465cb506",
   "metadata": {},
   "source": [
    "# dictionary comprehesion"
   ]
  },
  {
   "cell_type": "code",
   "execution_count": 79,
   "id": "58a91f15",
   "metadata": {},
   "outputs": [],
   "source": [
    "player_name=['dhoni',\"virat\",\"rohit\"]\n",
    "number=[7,18,43]"
   ]
  },
  {
   "cell_type": "code",
   "execution_count": 88,
   "id": "04b32455",
   "metadata": {},
   "outputs": [
    {
     "name": "stdout",
     "output_type": "stream",
     "text": [
      "('dhoni', 7) 43\n",
      "('virat', 18) 43\n",
      "('rohit', 43) 43\n"
     ]
    }
   ],
   "source": [
    "z=zip(player_name,number)\n",
    "for i in z:\n",
    "    print(i,j)"
   ]
  },
  {
   "cell_type": "code",
   "execution_count": 40,
   "id": "be2c3ae7",
   "metadata": {},
   "outputs": [
    {
     "name": "stdout",
     "output_type": "stream",
     "text": [
      "{'dhoni': 7, 'virat': 18, 'rohit': 43}\n"
     ]
    }
   ],
   "source": [
    "d1={i:j for i,j in zip(player_name,number) }\n",
    "print(d1)\n"
   ]
  },
  {
   "cell_type": "code",
   "execution_count": 51,
   "id": "0cbb2954",
   "metadata": {},
   "outputs": [
    {
     "name": "stdout",
     "output_type": "stream",
     "text": [
      "dhoni 7\n",
      "virat 18\n",
      "rohit 43\n"
     ]
    }
   ],
   "source": [
    "for i,j in d1.items():\n",
    "    print(i,j)\n",
    "    "
   ]
  },
  {
   "cell_type": "markdown",
   "id": "33d6973a",
   "metadata": {},
   "source": [
    "# ------------------------------------OVER----------------------------------------\n"
   ]
  },
  {
   "cell_type": "markdown",
   "id": "497e845a",
   "metadata": {},
   "source": [
    "# Working with JSON\n"
   ]
  },
  {
   "cell_type": "code",
   "execution_count": 55,
   "id": "212b74ae",
   "metadata": {
    "scrolled": true
   },
   "outputs": [
    {
     "name": "stdout",
     "output_type": "stream",
     "text": [
      "{'Rohit': {'age': 37, 'height': 165, 'runs': 15478}, 'Virat': {'age': 36, 'height': 165, 'runs': 25000}}\n"
     ]
    }
   ],
   "source": [
    "book={}\n",
    "\n",
    "book[\"Rohit\"]={\n",
    "    \"age\":37,\n",
    "    \"height\":165,\n",
    "    \"runs\":15478,\n",
    "}\n",
    "book[\"Virat\"]={\n",
    "    \"age\":36,\n",
    "    \"height\":165,\n",
    "    \"runs\":25000,\n",
    "}\n",
    "print(book)"
   ]
  },
  {
   "cell_type": "code",
   "execution_count": 56,
   "id": "034ff67c",
   "metadata": {},
   "outputs": [],
   "source": [
    "import json"
   ]
  },
  {
   "cell_type": "code",
   "execution_count": 59,
   "id": "078e9eb5",
   "metadata": {},
   "outputs": [],
   "source": [
    "s=json.dumps(book)"
   ]
  },
  {
   "cell_type": "code",
   "execution_count": 60,
   "id": "4da1a886",
   "metadata": {
    "scrolled": true
   },
   "outputs": [
    {
     "name": "stdout",
     "output_type": "stream",
     "text": [
      "{\"Rohit\": {\"age\": 37, \"height\": 165, \"runs\": 15478}, \"Virat\": {\"age\": 36, \"height\": 165, \"runs\": 25000}}\n"
     ]
    }
   ],
   "source": [
    "print(s)"
   ]
  },
  {
   "cell_type": "code",
   "execution_count": 62,
   "id": "0c8fe53d",
   "metadata": {},
   "outputs": [],
   "source": [
    "with open(\"C:/Users/abhis/Documents/Python Basics/JSON_file.txt\",\"w\") as f:\n",
    "    f.write(s)"
   ]
  },
  {
   "cell_type": "code",
   "execution_count": 69,
   "id": "d65d5df6",
   "metadata": {},
   "outputs": [
    {
     "name": "stdout",
     "output_type": "stream",
     "text": [
      "{'Rohit': {'age': 37, 'height': 165, 'runs': 15478}, 'Virat': {'age': 36, 'height': 165, 'runs': 25000}}\n"
     ]
    }
   ],
   "source": [
    "s=open(\"C:/Users/abhis/Documents/Python Basics/JSON_file.txt\",\"r\")\n",
    "s=s.read()\n",
    "final_string=json.loads(s)\n",
    "print(final_string)"
   ]
  },
  {
   "cell_type": "code",
   "execution_count": 71,
   "id": "d048bd68",
   "metadata": {
    "scrolled": true
   },
   "outputs": [
    {
     "name": "stdout",
     "output_type": "stream",
     "text": [
      "37\n"
     ]
    }
   ],
   "source": [
    "print(final_string['Rohit']['age'])"
   ]
  },
  {
   "cell_type": "code",
   "execution_count": 73,
   "id": "be106cd2",
   "metadata": {},
   "outputs": [],
   "source": [
    "def fun1():\n",
    "    print(\"Yes\")"
   ]
  },
  {
   "cell_type": "markdown",
   "id": "c42913ac",
   "metadata": {},
   "source": [
    "# # main is the entry point in python just like we have main in C and Java"
   ]
  },
  {
   "cell_type": "code",
   "execution_count": 74,
   "id": "aeee07d4",
   "metadata": {
    "scrolled": true
   },
   "outputs": [
    {
     "name": "stdout",
     "output_type": "stream",
     "text": [
      "Yes\n"
     ]
    }
   ],
   "source": [
    "if __name__==\"__main__\":\n",
    "    fun1()\n",
    "    "
   ]
  },
  {
   "cell_type": "code",
   "execution_count": null,
   "id": "31ba52e0",
   "metadata": {},
   "outputs": [],
   "source": []
  },
  {
   "cell_type": "code",
   "execution_count": null,
   "id": "e949692c",
   "metadata": {},
   "outputs": [],
   "source": []
  },
  {
   "cell_type": "code",
   "execution_count": null,
   "id": "eda70285",
   "metadata": {},
   "outputs": [],
   "source": []
  }
 ],
 "metadata": {
  "kernelspec": {
   "display_name": "Python 3 (ipykernel)",
   "language": "python",
   "name": "python3"
  },
  "language_info": {
   "codemirror_mode": {
    "name": "ipython",
    "version": 3
   },
   "file_extension": ".py",
   "mimetype": "text/x-python",
   "name": "python",
   "nbconvert_exporter": "python",
   "pygments_lexer": "ipython3",
   "version": "3.11.5"
  }
 },
 "nbformat": 4,
 "nbformat_minor": 5
}
