{
 "cells": [
  {
   "cell_type": "code",
   "execution_count": 16,
   "id": "11b3e97b",
   "metadata": {},
   "outputs": [
    {
     "name": "stdout",
     "output_type": "stream",
     "text": [
      "Welcome to the Brand name Generator\n",
      "What's the name of city you are grown up in \n",
      "indore\n",
      "Whats your pet name\n",
      "kutta\n"
     ]
    },
    {
     "data": {
      "text/plain": [
       "'kutta'"
      ]
     },
     "execution_count": 16,
     "metadata": {},
     "output_type": "execute_result"
    }
   ],
   "source": [
    "print(\"Welcome to the Brand name Generator\")\n",
    "print(\"What's the name of city you are grown up in \")\n",
    "input()\n",
    "print(\"Whats your pet name\")\n",
    "input()"
   ]
  },
  {
   "cell_type": "code",
   "execution_count": 17,
   "id": "7242f404",
   "metadata": {},
   "outputs": [
    {
     "name": "stdout",
     "output_type": "stream",
     "text": [
      "\"+\"\n"
     ]
    }
   ],
   "source": [
    "print('\"+\"')"
   ]
  },
  {
   "cell_type": "code",
   "execution_count": 20,
   "id": "d480677e",
   "metadata": {},
   "outputs": [
    {
     "name": "stdout",
     "output_type": "stream",
     "text": [
      "What is your name: abhishek\n",
      "given name is abhishek\n"
     ]
    }
   ],
   "source": [
    "name=input(\"What is your name: \")\n",
    "print(\"given name is {}\".format(name))"
   ]
  },
  {
   "cell_type": "code",
   "execution_count": 22,
   "id": "af5c5811",
   "metadata": {},
   "outputs": [
    {
     "name": "stdout",
     "output_type": "stream",
     "text": [
      "1 2 3 \n"
     ]
    }
   ],
   "source": [
    "a1=map(int,input().split())"
   ]
  },
  {
   "cell_type": "code",
   "execution_count": null,
   "id": "1d2d1336",
   "metadata": {},
   "outputs": [],
   "source": []
  },
  {
   "cell_type": "code",
   "execution_count": null,
   "id": "061d634b",
   "metadata": {},
   "outputs": [],
   "source": []
  },
  {
   "cell_type": "code",
   "execution_count": null,
   "id": "f0056639",
   "metadata": {},
   "outputs": [],
   "source": []
  },
  {
   "cell_type": "code",
   "execution_count": null,
   "id": "4c846701",
   "metadata": {},
   "outputs": [],
   "source": []
  },
  {
   "cell_type": "code",
   "execution_count": null,
   "id": "b2b43d4c",
   "metadata": {},
   "outputs": [],
   "source": []
  },
  {
   "cell_type": "code",
   "execution_count": null,
   "id": "db5aed13",
   "metadata": {},
   "outputs": [],
   "source": []
  },
  {
   "cell_type": "code",
   "execution_count": null,
   "id": "fc86900d",
   "metadata": {},
   "outputs": [],
   "source": []
  }
 ],
 "metadata": {
  "kernelspec": {
   "display_name": "Python 3 (ipykernel)",
   "language": "python",
   "name": "python3"
  },
  "language_info": {
   "codemirror_mode": {
    "name": "ipython",
    "version": 3
   },
   "file_extension": ".py",
   "mimetype": "text/x-python",
   "name": "python",
   "nbconvert_exporter": "python",
   "pygments_lexer": "ipython3",
   "version": "3.9.12"
  }
 },
 "nbformat": 4,
 "nbformat_minor": 5
}
