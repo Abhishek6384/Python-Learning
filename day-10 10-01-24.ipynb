{
 "cells": [
  {
   "cell_type": "markdown",
   "id": "91edfc0a",
   "metadata": {},
   "source": [
    "# Calculator\n"
   ]
  },
  {
   "cell_type": "code",
   "execution_count": 1,
   "id": "6347b5cb",
   "metadata": {},
   "outputs": [],
   "source": [
    "def add(num1,num2):\n",
    "    return num1+num2\n",
    "\n",
    "def subtract(num1,num2):\n",
    "    return num1-num2\n",
    "\n",
    "def multi(num1,num2):\n",
    "    return num1*num2\n",
    "\n",
    "def div(num1,num2):\n",
    "    return num1/num2"
   ]
  },
  {
   "cell_type": "code",
   "execution_count": 3,
   "id": "f1d282e2",
   "metadata": {},
   "outputs": [],
   "source": [
    "opertions={\n",
    "    \"+\":add,\n",
    "    \"-\":subtract,\n",
    "    \"*\":multi,\n",
    "    \"/\":div,\n",
    "}"
   ]
  },
  {
   "cell_type": "code",
   "execution_count": null,
   "id": "d1661fc3",
   "metadata": {},
   "outputs": [],
   "source": [
    "exit=False\n",
    "while not exit:\n",
    "    choice=input(\"press\\n + to add\\n - to subtract\\n * to multi\\n / to divide\\n\")\n",
    "    num1,num2=map(int,input(\"enter the numbers\").split(\" \"))\n",
    "    function=opertions[choice]\n",
    "    print(function(num1,num2))\n",
    "    exit_choice=input(\"press 1 to continue and 2 for exit\")\n",
    "    if exit_choice==2:\n",
    "        exit=True\n",
    "        \n",
    "    "
   ]
  },
  {
   "cell_type": "code",
   "execution_count": null,
   "id": "f5d64ca8",
   "metadata": {},
   "outputs": [],
   "source": []
  },
  {
   "cell_type": "code",
   "execution_count": null,
   "id": "23ab236c",
   "metadata": {},
   "outputs": [],
   "source": []
  },
  {
   "cell_type": "code",
   "execution_count": null,
   "id": "48793569",
   "metadata": {},
   "outputs": [],
   "source": []
  },
  {
   "cell_type": "code",
   "execution_count": null,
   "id": "f92d93fa",
   "metadata": {},
   "outputs": [],
   "source": []
  }
 ],
 "metadata": {
  "kernelspec": {
   "display_name": "Python 3 (ipykernel)",
   "language": "python",
   "name": "python3"
  },
  "language_info": {
   "codemirror_mode": {
    "name": "ipython",
    "version": 3
   },
   "file_extension": ".py",
   "mimetype": "text/x-python",
   "name": "python",
   "nbconvert_exporter": "python",
   "pygments_lexer": "ipython3",
   "version": "3.9.12"
  }
 },
 "nbformat": 4,
 "nbformat_minor": 5
}
